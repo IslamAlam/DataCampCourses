{
 "cells": [
  {
   "cell_type": "markdown",
   "metadata": {},
   "source": [
    "<header>\n",
    "\n",
    "<div class=\"dc-edge-to-edge@sm dc-edge-to-edge--align-center\">\n",
    "\n",
    "<div class=\"dc-edge-to-edge__item\">\n",
    "\n",
    "<div class=\"dc-chapter__title-wrapper\"><span class=\"dc-chapter__number\"></span>\n",
    "\n",
    "#### Preprocessing and pipelines\n",
    "\n",
    "</div>\n",
    "\n",
    "</div>\n",
    "\n",
    "<div class=\"dc-edge-to-edge__item dc-chapter__progress\">\n",
    "\n",
    "<div class=\"course-outline__progress\"><span class=\"course-outline__percentage\">0%</span></div>\n",
    "\n",
    "</div>\n",
    "\n",
    "</div>\n",
    "\n",
    "</header>\n",
    "\n",
    "<div class=\"modal--chapter-text\">\n",
    "\n",
    "This chapter will introduce the notion of pipelines and how scikit-learn allows for transformers and estimators to be chained together and used as a single unit. Pre-processing techniques will be then be introduced as a way to enhance model performance and pipelines will be the glue that ties together concepts in the prior chapters.\n",
    "\n",
    "</div>\n",
    "\n",
    "* Preprocessing data\t50 XP\n",
    "\n",
    "* Exploring categorical features\t100 XP\n",
    "\n",
    "* Creating dummy variables\t100 XP\n",
    "\n",
    "* Regression with categorical features\t100 XP\n",
    "\n",
    "* Handling missing data\t50 XP\n",
    "\n",
    "* Dropping missing data\t100 XP\n",
    "\n",
    "* Imputing missing data in a ML Pipeline I\t100 XP\n",
    "\n",
    "* Imputing missing data in a ML Pipeline II\t100 XP\n",
    "\n",
    "* Centering and scaling\t50 XP\n",
    "\n",
    "* Centering and scaling your data\t100 XP\n",
    "\n",
    "* Centering and scaling in a pipeline\t100 XP\n",
    "\n",
    "* Bringing it all together I: Pipeline for classification\t100 XP\n",
    "\n",
    "* Bringing it all together II: Pipeline for regression\t100 XP\n",
    "\n",
    "* Final thoughts\t50 XP"
   ]
  },
  {
   "cell_type": "code",
   "execution_count": null,
   "metadata": {},
   "outputs": [],
   "source": []
  }
 ],
 "metadata": {
  "kernelspec": {
   "display_name": "Python 3",
   "language": "python",
   "name": "python3"
  },
  "language_info": {
   "codemirror_mode": {
    "name": "ipython",
    "version": 3
   },
   "file_extension": ".py",
   "mimetype": "text/x-python",
   "name": "python",
   "nbconvert_exporter": "python",
   "pygments_lexer": "ipython3",
   "version": "3.7.0"
  }
 },
 "nbformat": 4,
 "nbformat_minor": 2
}
